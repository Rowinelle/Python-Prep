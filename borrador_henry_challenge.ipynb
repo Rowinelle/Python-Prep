{
  "nbformat": 4,
  "nbformat_minor": 0,
  "metadata": {
    "colab": {
      "name": "borrador henry challenge.ipynb",
      "provenance": [],
      "authorship_tag": "ABX9TyNHe30zewkyxevLsOq+pa5H",
      "include_colab_link": true
    },
    "kernelspec": {
      "name": "python3",
      "display_name": "Python 3"
    },
    "language_info": {
      "name": "python"
    }
  },
  "cells": [
    {
      "cell_type": "markdown",
      "metadata": {
        "id": "view-in-github",
        "colab_type": "text"
      },
      "source": [
        "<a href=\"https://colab.research.google.com/github/Rowinelle/Python-Prep/blob/main/borrador_henry_challenge.ipynb\" target=\"_parent\"><img src=\"https://colab.research.google.com/assets/colab-badge.svg\" alt=\"Open In Colab\"/></a>"
      ]
    },
    {
      "cell_type": "code",
      "execution_count": null,
      "metadata": {
        "id": "Xc6-sWcw5x1J"
      },
      "outputs": [],
      "source": [
        ""
      ]
    }
  ]
}